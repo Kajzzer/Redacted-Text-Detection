{
 "cells": [
  {
   "cell_type": "code",
   "execution_count": 1,
   "id": "3b50cb74",
   "metadata": {},
   "outputs": [],
   "source": [
    "# import some common libraries\n",
    "import os, json, cv2, random, shutil, time\n",
    "import numpy as np\n",
    "import pandas as pd\n",
    "from tqdm import tqdm"
   ]
  },
  {
   "cell_type": "code",
   "execution_count": 2,
   "id": "4cf18ccd",
   "metadata": {},
   "outputs": [],
   "source": [
    "# global variables and constants\n",
    "datasets_dir = os.path.join('..', 'datasets')\n",
    "TRAIN_SPLIT = 0.7\n",
    "RNG_SEED = 117"
   ]
  },
  {
   "cell_type": "code",
   "execution_count": 3,
   "id": "450671d9",
   "metadata": {},
   "outputs": [],
   "source": [
    "def create_empty_dir(directory: str):\n",
    "    '''\n",
    "    Create an empty directory\n",
    "    @param  string      The path to the directory that we want to create,\n",
    "                        this can be an existing directory that will be \n",
    "                        recreated. NOTE: this will remove the current content\n",
    "                        of that directory\n",
    "    '''\n",
    "    # remove the dir if it exists and recreate\n",
    "    if os.path.isdir(directory): \n",
    "        shutil.rmtree(directory)\n",
    "    os.makedirs(directory)"
   ]
  },
  {
   "cell_type": "code",
   "execution_count": 4,
   "id": "72f72a66",
   "metadata": {},
   "outputs": [],
   "source": [
    "def copy_file(filename: str, destination_dir: str):\n",
    "    '''\n",
    "    Copy an image from the complete dataset to a destination directory\n",
    "    @param  string      The name of the image\n",
    "    @param  string      The path to the directory we want to copy the file to\n",
    "    '''\n",
    "    # copy the file from the folder with all \n",
    "    # images to the destination directory\n",
    "    source = os.path.join(datasets_dir, 'complete', filename)\n",
    "    destination = os.path.join(destination_dir, filename)\n",
    "    shutil.copyfile(source, destination)"
   ]
  },
  {
   "cell_type": "code",
   "execution_count": 5,
   "id": "e5dab4df",
   "metadata": {},
   "outputs": [],
   "source": [
    "def split_data(train_split: float=TRAIN_SPLIT, force_new_split: bool=False, extended: bool=False):\n",
    "    '''\n",
    "    Split the dataset into a train and test set\n",
    "    @param  float      The split of the data that should go to the train set\n",
    "    @param  bool       Should we force a new split of the data?\n",
    "    '''\n",
    "    \n",
    "    # get the path to the train and test files\n",
    "    train_dir = os.path.join(datasets_dir, 'train')\n",
    "    test_dir = os.path.join(datasets_dir, 'test')\n",
    "    \n",
    "    # if we want to create the extended tra\n",
    "    if extended:\n",
    "        train_dir = train_dir + '_extended'\n",
    "        test_dir = test_dir + '_extended'\n",
    "\n",
    "    # if we already have the directories and we don't want to \n",
    "    # force a new split of the directories we need can stop\n",
    "    if os.path.isdir(train_dir) and os.path.isdir(test_dir) and not force_new_split: return\n",
    "    \n",
    "    # empty the directories\n",
    "    create_empty_dir(train_dir)\n",
    "    create_empty_dir(test_dir)\n",
    "    \n",
    "    # load the csv data of the images with the redaction types\n",
    "    data_csv = pd.read_csv(os.path.join(datasets_dir, 'data_complete.csv'))\n",
    "\n",
    "    # group the data per label and create a split per label\n",
    "    for label, label_df in data_csv.groupby('type'):\n",
    "\n",
    "        # if we don't want to create an extended set,\n",
    "        # we should skip the 'no_annotation' images\n",
    "        if not extended and label == 'no_annotation': continue\n",
    "\n",
    "        # create the split for this label\n",
    "        train_df = label_df.sample(frac = TRAIN_SPLIT, random_state = RNG_SEED)\n",
    "        test_df = label_df.drop(train_df.index)\n",
    "\n",
    "        # copy the training files into the train directory\n",
    "        for filename in train_df['File']:\n",
    "            copy_file(filename, train_dir)\n",
    "\n",
    "        # copy the test files into the test directory\n",
    "        for filename in test_df['File']:\n",
    "            copy_file(filename, test_dir)"
   ]
  }
 ],
 "metadata": {
  "kernelspec": {
   "display_name": "Python 3 (ipykernel)",
   "language": "python",
   "name": "python3"
  },
  "language_info": {
   "codemirror_mode": {
    "name": "ipython",
    "version": 3
   },
   "file_extension": ".py",
   "mimetype": "text/x-python",
   "name": "python",
   "nbconvert_exporter": "python",
   "pygments_lexer": "ipython3",
   "version": "3.8.18"
  }
 },
 "nbformat": 4,
 "nbformat_minor": 5
}
